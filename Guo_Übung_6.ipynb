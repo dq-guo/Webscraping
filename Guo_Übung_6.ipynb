{
 "cells": [
  {
   "cell_type": "code",
   "execution_count": 23,
   "id": "6b5b6f4f-63ca-499b-ae1d-65bacb42288c",
   "metadata": {},
   "outputs": [],
   "source": [
    "# 1) Webscraping für Geisteswissenschaften | Übungsblatt 6 | Danqi Guo"
   ]
  },
  {
   "cell_type": "code",
   "execution_count": 2,
   "id": "e0d4a5e2-5483-449d-a0c0-1378769c5190",
   "metadata": {},
   "outputs": [],
   "source": [
    "# 3) Pakete importieren\n",
    "import requests\n",
    "from bs4 import BeautifulSoup"
   ]
  },
  {
   "cell_type": "code",
   "execution_count": 3,
   "id": "fd5affc8-6a83-4402-9229-20112cb4607b",
   "metadata": {},
   "outputs": [],
   "source": [
    "# 4) HTTP get-Request stellen\n",
    "URL = \"https://quotes.toscrape.com/\"\n",
    "antwort = requests.get(URL)"
   ]
  },
  {
   "cell_type": "code",
   "execution_count": 6,
   "id": "b6aac526-9024-4511-bfee-8f4e403eb670",
   "metadata": {},
   "outputs": [
    {
     "data": {
      "text/plain": [
       "200"
      ]
     },
     "execution_count": 6,
     "metadata": {},
     "output_type": "execute_result"
    }
   ],
   "source": [
    "# 5) Statuscode der HTTP-Response abrufen\n",
    "antwort.status_code "
   ]
  },
  {
   "cell_type": "code",
   "execution_count": 14,
   "id": "1c6b94f1-ac58-4d35-acba-5da27cc974df",
   "metadata": {},
   "outputs": [
    {
     "data": {
      "text/plain": [
       "bs4.BeautifulSoup"
      ]
     },
     "execution_count": 14,
     "metadata": {},
     "output_type": "execute_result"
    }
   ],
   "source": [
    "# 6) Ein BeautifulSoup-Objekt erstellen\n",
    "soup = BeautifulSoup(antwort.content, \"html.parser\")"
   ]
  },
  {
   "cell_type": "code",
   "execution_count": 22,
   "id": "81821ac5-4a27-4f75-9100-23e045db39fc",
   "metadata": {},
   "outputs": [
    {
     "name": "stdout",
     "output_type": "stream",
     "text": [
      "\n",
      "love\n",
      "\n",
      "\n",
      "inspirational\n",
      "\n",
      "\n",
      "life\n",
      "\n",
      "\n",
      "humor\n",
      "\n",
      "\n",
      "books\n",
      "\n",
      "\n",
      "reading\n",
      "\n",
      "\n",
      "friendship\n",
      "\n",
      "\n",
      "friends\n",
      "\n",
      "\n",
      "truth\n",
      "\n",
      "\n",
      "simile\n",
      "\n"
     ]
    }
   ],
   "source": [
    "# 7) 10 Tage extrahieren\n",
    "tag = soup.find_all('span', class_=\"tag-item\") \n",
    "\n",
    "for tag in tag:\n",
    "    print(tag.get_text())"
   ]
  }
 ],
 "metadata": {
  "kernelspec": {
   "display_name": "Python 3.10 (Webscraping)",
   "language": "python",
   "name": "ws-env"
  },
  "language_info": {
   "codemirror_mode": {
    "name": "ipython",
    "version": 3
   },
   "file_extension": ".py",
   "mimetype": "text/x-python",
   "name": "python",
   "nbconvert_exporter": "python",
   "pygments_lexer": "ipython3",
   "version": "3.10.13"
  }
 },
 "nbformat": 4,
 "nbformat_minor": 5
}
